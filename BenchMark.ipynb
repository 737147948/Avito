{
 "cells": [
  {
   "cell_type": "code",
   "execution_count": 1,
   "metadata": {
    "collapsed": true
   },
   "outputs": [],
   "source": [
    "import nltk as nl\n",
    "import pandas as pd\n",
    "import re, string\n",
    "import Vectorization.altgrad as altg\n",
    "import numpy as np\n",
    "import sklearn as skl\n",
    "from sklearn.naive_bayes import MultinomialNB\n",
    "from sklearn.grid_search import GridSearchCV\n",
    "from sklearn.cross_validation import train_test_split\n",
    "from sklearn.feature_extraction.text import CountVectorizer, TfidfTransformer\n",
    "from sklearn.pipeline import Pipeline\n",
    "from sklearn.svm import LinearSVC\n",
    "from sklearn.ensemble import RandomForestClassifier\n",
    "import matplotlib.pyplot as plt\n",
    "from scipy.sparse import coo_matrix, csr_matrix, csc_matrix, hstack\n",
    "import re, string\n",
    "%matplotlib inline"
   ]
  },
  {
   "cell_type": "code",
   "execution_count": 2,
   "metadata": {
    "collapsed": true
   },
   "outputs": [],
   "source": [
    "## Read dataset\n",
    "train = pd.read_csv('data/challenge_21_data_2/train_sample_stemmed.csv', index_col=None, engine='c')\n",
    "# test = pd.read_csv('data/challenge_21_data_2/test_sample_stemmed.csv', index_col=None, engine='c')\n",
    "\n",
    "## Create a test set\n",
    "msk = np.random.rand(len(train)) < 0.75\n",
    "X_train = train[msk]\n",
    "X_test = train[~msk]"
   ]
  },
  {
   "cell_type": "code",
   "execution_count": 3,
   "metadata": {
    "collapsed": true
   },
   "outputs": [],
   "source": [
    "y_train = X_train.Author.factorize()[0]\n",
    "y_test = X_test.Author.factorize()[0]\n",
    "train_docs = list(X_train.StemmedSentence.values)\n",
    "test_docs = list(X_test.StemmedSentence.values)"
   ]
  },
  {
   "cell_type": "code",
   "execution_count": 16,
   "metadata": {
    "collapsed": false
   },
   "outputs": [
    {
     "name": "stdout",
     "output_type": "stream",
     "text": [
      "Fitting 5 folds for each of 120 candidates, totalling 600 fits\n"
     ]
    },
    {
     "name": "stderr",
     "output_type": "stream",
     "text": [
      "[Parallel(n_jobs=40)]: Done   1 jobs       | elapsed:    0.7s\n",
      "[Parallel(n_jobs=40)]: Done  50 jobs       | elapsed:    6.7s\n",
      "[Parallel(n_jobs=40)]: Done 200 jobs       | elapsed:   27.0s\n",
      "[Parallel(n_jobs=40)]: Done 450 jobs       | elapsed:  1.0min\n",
      "[Parallel(n_jobs=40)]: Done 522 out of 600 | elapsed:  1.2min remaining:   10.8s\n",
      "[Parallel(n_jobs=40)]: Done 600 out of 600 | elapsed:  1.4min finished\n"
     ]
    },
    {
     "name": "stdout",
     "output_type": "stream",
     "text": [
      "Score on train set 0.992\n",
      "Score on test set 0.784\n"
     ]
    }
   ],
   "source": [
    "text_clf = Pipeline([('vect', CountVectorizer()),\n",
    "                     ('tfidf', TfidfTransformer()),\n",
    "                     ('clf', MultinomialNB()),\n",
    "])\n",
    "\n",
    "\n",
    "params_grid = {}\n",
    "params_grid['vect__ngram_range'] = [(1, 1), (1, 2), (1, 3)]\n",
    "params_grid['tfidf__use_idf'] = (True, False)\n",
    "params_grid['clf__alpha'] = np.logspace(-10, 2, 20)\n",
    "\n",
    "gs_clf = GridSearchCV(text_clf, params_grid, cv=5, n_jobs=40, verbose=1, scoring='accuracy')\n",
    "gs_clf = gs_clf.fit(train_docs, y_train)\n",
    "print(\"Score on train set %.3f\"%gs_clf.score(train_docs, y_train))\n",
    "print(\"Score on test set %.3f\"%gs_clf.score(test_docs, y_test))"
   ]
  },
  {
   "cell_type": "code",
   "execution_count": 17,
   "metadata": {
    "collapsed": false
   },
   "outputs": [
    {
     "data": {
      "text/plain": [
       "Pipeline(steps=[('vect', CountVectorizer(analyzer=u'word', binary=False, charset=None,\n",
       "        charset_error=None, decode_error=u'strict',\n",
       "        dtype=<type 'numpy.int64'>, encoding=u'utf-8', input=u'content',\n",
       "        lowercase=True, max_df=1.0, max_features=None, min_df=1,\n",
       "        ngram_range=(1, 2), prep...se_idf=True)), ('clf', MultinomialNB(alpha=0.016237767391887176, class_prior=None, fit_prior=True))])"
      ]
     },
     "execution_count": 17,
     "metadata": {},
     "output_type": "execute_result"
    }
   ],
   "source": [
    "gs_clf.best_estimator_"
   ]
  },
  {
   "cell_type": "code",
   "execution_count": 14,
   "metadata": {
    "collapsed": false
   },
   "outputs": [
    {
     "name": "stdout",
     "output_type": "stream",
     "text": [
      "Fitting 5 folds for each of 30 candidates, totalling 150 fits\n"
     ]
    },
    {
     "name": "stderr",
     "output_type": "stream",
     "text": [
      "[Parallel(n_jobs=40)]: Done   1 jobs       | elapsed:    0.2s\n",
      "[Parallel(n_jobs=40)]: Done  50 jobs       | elapsed:    2.1s\n",
      "[Parallel(n_jobs=40)]: Done  72 out of 150 | elapsed:    3.0s remaining:    3.2s\n",
      "[Parallel(n_jobs=40)]: Done 150 out of 150 | elapsed:    5.6s finished\n"
     ]
    },
    {
     "name": "stdout",
     "output_type": "stream",
     "text": [
      "Score on train set 0.988\n",
      "Score on test set 0.788\n"
     ]
    }
   ],
   "source": [
    "## Feature creation\n",
    "feat_engine = Pipeline([('vect', CountVectorizer(ngram_range=(1, 2))),\n",
    "                     ('tfidf', TfidfTransformer(use_idf=False)),\n",
    "])\n",
    "\n",
    "X_train_ngrams = feat_engine.fit_transform(train_docs)\n",
    "X_test_ngrams = feat_engine.transform(test_docs)\n",
    "\n",
    "params_grid = {}\n",
    "params_grid['alpha'] = np.logspace(-5, -2, 30)\n",
    "clf = GridSearchCV(MultinomialNB(), params_grid, cv=5, n_jobs=40, verbose=1, scoring='accuracy')\n",
    "clf.fit(X_train_ngrams, y_train)\n",
    "print(\"Score on train set %.3f\"%clf.score(X_train_ngrams, y_train))\n",
    "print(\"Score on test set %.3f\"%clf.score(X_test_ngrams, y_test))"
   ]
  },
  {
   "cell_type": "code",
   "execution_count": 15,
   "metadata": {
    "collapsed": false
   },
   "outputs": [
    {
     "data": {
      "text/plain": [
       "MultinomialNB(alpha=0.0078804628156699131, class_prior=None, fit_prior=True)"
      ]
     },
     "execution_count": 15,
     "metadata": {},
     "output_type": "execute_result"
    }
   ],
   "source": [
    "clf.best_estimator_"
   ]
  },
  {
   "cell_type": "code",
   "execution_count": 18,
   "metadata": {
    "collapsed": false
   },
   "outputs": [
    {
     "name": "stdout",
     "output_type": "stream",
     "text": [
      "Fitting 5 folds for each of 30 candidates, totalling 150 fits\n"
     ]
    },
    {
     "name": "stderr",
     "output_type": "stream",
     "text": [
      "[Parallel(n_jobs=40)]: Done   1 jobs       | elapsed:    0.2s\n",
      "[Parallel(n_jobs=40)]: Done  50 jobs       | elapsed:    2.1s\n",
      "[Parallel(n_jobs=40)]: Done  72 out of 150 | elapsed:    2.8s remaining:    3.0s\n",
      "[Parallel(n_jobs=40)]: Done 150 out of 150 | elapsed:    5.3s finished\n"
     ]
    },
    {
     "name": "stdout",
     "output_type": "stream",
     "text": [
      "Score on train set 0.993\n",
      "Score on test set 0.782\n"
     ]
    }
   ],
   "source": [
    "## Feature creation\n",
    "feat_engine = Pipeline([('vect', CountVectorizer(ngram_range=(1, 2))),\n",
    "                     ('tfidf', TfidfTransformer(use_idf=True)),\n",
    "])\n",
    "\n",
    "X_train_ngrams = feat_engine.fit_transform(train_docs)\n",
    "X_test_ngrams = feat_engine.transform(test_docs)\n",
    "\n",
    "params_grid = {}\n",
    "params_grid['alpha'] = np.logspace(-5, -2, 30)\n",
    "clf = GridSearchCV(MultinomialNB(), params_grid, cv=5, n_jobs=40, verbose=1, scoring='accuracy')\n",
    "clf.fit(X_train_ngrams, y_train)\n",
    "print(\"Score on train set %.3f\"%clf.score(X_train_ngrams, y_train))\n",
    "print(\"Score on test set %.3f\"%clf.score(X_test_ngrams, y_test))"
   ]
  },
  {
   "cell_type": "code",
   "execution_count": 19,
   "metadata": {
    "collapsed": false
   },
   "outputs": [
    {
     "data": {
      "text/plain": [
       "MultinomialNB(alpha=0.01, class_prior=None, fit_prior=True)"
      ]
     },
     "execution_count": 19,
     "metadata": {},
     "output_type": "execute_result"
    }
   ],
   "source": [
    "clf.best_estimator_"
   ]
  },
  {
   "cell_type": "code",
   "execution_count": null,
   "metadata": {
    "collapsed": true
   },
   "outputs": [],
   "source": []
  }
 ],
 "metadata": {
  "kernelspec": {
   "display_name": "Python 2",
   "language": "python",
   "name": "python2"
  },
  "language_info": {
   "codemirror_mode": {
    "name": "ipython",
    "version": 2
   },
   "file_extension": ".py",
   "mimetype": "text/x-python",
   "name": "python",
   "nbconvert_exporter": "python",
   "pygments_lexer": "ipython2",
   "version": "2.7.9"
  }
 },
 "nbformat": 4,
 "nbformat_minor": 0
}
